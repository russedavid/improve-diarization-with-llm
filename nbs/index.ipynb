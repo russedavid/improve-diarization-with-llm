{
 "cells": [
  {
   "cell_type": "markdown",
   "metadata": {},
   "source": [
    "# improve-diarization-with-llm\n",
    "\n",
    "> This tool can take a long script (greater than 10 hours) of diarized content and improve the diarization by prompting an LLM model to look for obviously incorrect attribution and fix it. Credit to this paper for the idea: https://arxiv.org/html/2401.03506v4"
   ]
  },
  {
   "cell_type": "markdown",
   "metadata": {},
   "source": [
    "## Install"
   ]
  },
  {
   "cell_type": "markdown",
   "metadata": {},
   "source": [
    "```sh\n",
    "pip install improve_diarization_with_llm\n",
    "```"
   ]
  },
  {
   "cell_type": "markdown",
   "metadata": {},
   "source": [
    "## How to use"
   ]
  },
  {
   "cell_type": "code",
   "execution_count": null,
   "metadata": {},
   "outputs": [],
   "source": [
    "import os\n",
    "from improve_diarization_with_llm import claude_corrector\n",
    "    \n",
    "os.environ['ANTHROPIC_API_KEY'] = 'your-api-key'  # Replace with your actual API key\n",
    "input_file = 'path/to/your/input/transcript.txt'  # Replace with your actual input file path\n",
    "output_file = 'path/to/your/output/improved_transcript.txt'  # Replace with your desired output file path\n",
    "    \n",
    "corrector = claude_corrector.ClaudeDiarizationCorrector(input_file, output_file)\n",
    "\n",
    "# corrector.process_conversation() this assumes a valid ANTHROPIC_API_KEY environment variable and input path"
   ]
  },
  {
   "cell_type": "code",
   "execution_count": null,
   "metadata": {},
   "outputs": [],
   "source": []
  }
 ],
 "metadata": {
  "kernelspec": {
   "display_name": "python3",
   "language": "python",
   "name": "python3"
  }
 },
 "nbformat": 4,
 "nbformat_minor": 4
}
