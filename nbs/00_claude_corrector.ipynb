{
 "cells": [
  {
   "cell_type": "code",
   "execution_count": 7,
   "metadata": {},
   "outputs": [
    {
     "name": "stdout",
     "output_type": "stream",
     "text": [
      "The autoreload extension is already loaded. To reload it, use:\n",
      "  %reload_ext autoreload\n"
     ]
    }
   ],
   "source": [
    "%load_ext autoreload\n",
    "%autoreload 2"
   ]
  },
  {
   "cell_type": "markdown",
   "metadata": {},
   "source": [
    "# Claude Improve\n",
    "\n",
    "> A tool for correcting speaker diarization transcripts using Claude AI accessed through the Claudette tool."
   ]
  },
  {
   "cell_type": "code",
   "execution_count": 8,
   "metadata": {},
   "outputs": [],
   "source": [
    "#| default_exp claude_corrector"
   ]
  },
  {
   "cell_type": "code",
   "execution_count": 9,
   "metadata": {},
   "outputs": [],
   "source": [
    "#| hide\n",
    "from nbdev.showdoc import *"
   ]
  },
  {
   "cell_type": "markdown",
   "metadata": {},
   "source": [
    "## Install\n",
    "```sh\n",
    "pip install improve_diarization_with_llm\n",
    "```"
   ]
  },
  {
   "cell_type": "markdown",
   "metadata": {},
   "source": [
    "## Core Functionality"
   ]
  },
  {
   "cell_type": "code",
   "execution_count": 10,
   "metadata": {},
   "outputs": [],
   "source": [
    "#| export\n",
    "from claudette import Chat, models\n",
    "import os\n",
    "\n",
    "class ClaudeDiarizationCorrector:\n",
    "    def __init__(self, input_path: str, output_path: str, chunk_size: int = 20000):\n",
    "        \"\"\"\n",
    "        Initialize the ClaudeDiarizationCorrector.\n",
    "        \n",
    "        Args:\n",
    "            input_path (str): Path to the input diarization transcript file.\n",
    "            output_path (str): Path where the corrected transcript will be saved.\n",
    "            chunk_size (int, optional): Maximum size of each chunk for processing. Defaults to 20000.\n",
    "        \"\"\"\n",
    "        self.input_path = input_path\n",
    "        self.output_path = output_path\n",
    "        self.chunk_size = chunk_size\n",
    "        self.model = models[1]  # sonnet 3.5\n",
    "        self.chat = Chat(self.model, sp=\"\"\"You are a helpful and concise assistant that will correct a diarization script.\"\"\")\n",
    "\n",
    "    def read_and_chunk(self):\n",
    "        \"\"\"\n",
    "        Read the input file and split it into chunks.\n",
    "        \n",
    "        Returns:\n",
    "            list: A list of text chunks.\n",
    "        \"\"\"\n",
    "        with open(self.input_path, 'r', encoding='utf-8') as file:\n",
    "            text = file.read()\n",
    "\n",
    "        lines = text.split('\\n')\n",
    "        chunks = []\n",
    "        current_chunk = \"\"\n",
    "\n",
    "        for line in lines:\n",
    "            if len(current_chunk + '\\n' + line) > self.chunk_size:\n",
    "                chunks.append(current_chunk)\n",
    "                current_chunk = line\n",
    "            else:\n",
    "                if current_chunk:\n",
    "                    current_chunk += '\\n' + line\n",
    "                else:\n",
    "                    current_chunk = line\n",
    "\n",
    "        if current_chunk:\n",
    "            chunks.append(current_chunk)\n",
    "        return chunks\n",
    "\n",
    "    def process_chunk(self, chunk: str, index: int, total_chunks: int):\n",
    "        \"\"\"\n",
    "        Process a single chunk of the diarization transcript.\n",
    "        \n",
    "        Args:\n",
    "            chunk (str): The text chunk to process.\n",
    "            index (int): The index of the current chunk.\n",
    "            total_chunks (int): The total number of chunks.\n",
    "        \n",
    "        Returns:\n",
    "            str: The corrected text chunk.\n",
    "        \"\"\"\n",
    "        if index == 0:\n",
    "            prompt = f'''In the speaker diarization transcript below, some words are potentially misplaced due to bleeding. As in one speaker is talking then immediately after a second speaker is talking, and the first words of the second speaker are attributed to the last words of the second speaker. I need you to read the meaning and context of the sentences and make your best guess about how the sentences should be re-distributed \n",
    "                      They may also be displaced in the following manner-- Two or more speakers speak, and the words are all attributed to one speaker, when actually 2 or three speakers spoke like this: speaker_1 \"talking\" speaker_2 \"talking\" speaker_1 \"talking\", but all the transcription captures is speaker_1 \"talking talking talking\" \n",
    "                      Please correct those words and move them to the right speaker. Directly show the corrected transcript without explaining what changes were made or why you made those changes. \n",
    "                      This is the first of {total_chunks} parts. Correct this chunk in isolation. Text to correct is indicated by this tag <text-to-correct></text-to-correct>\n",
    "                      Feel free to attempt to correct the speaker identified, for example if it says it is speaker_01, but you think it is speaker_02, correct that, also if you know the actual name of a character, replace the \"SPEAKER_01\" with it's actual character name\n",
    "                      <text-to-correct>{chunk}</text-to-correct>\n",
    "                    '''\n",
    "        else:\n",
    "            if index % 2 == 0:\n",
    "                self.chat = Chat(self.model, sp=\"\"\"You are a helpful and concise assistant that will correct a diarization script.\"\"\")\n",
    "            prompt = f'''In the speaker diarization transcript below, some words are potentially misplaced.\n",
    "                      Please correct those words and move them to the right speaker. Directly show the corrected transcript without explaining what changes were made or why you made those changes.\n",
    "                      Continue diarization from previous {index} parts, maintaining consistent speaker attribution and context. The diarization transcript to correct is indicated by this tag <text-to-correct></text-to-correct>\n",
    "                      This is part {index + 1} of {total_chunks}. Correct the section indicated by <previous-corrected-text></previous-corrected-text> only, and directly show the corrected transcript without explaining what changes were made or why you made those changes.\n",
    "                      Feel free to attempt to correct the speaker identified, for example if it says it is speaker_01, but you think it is speaker_02, correct that, also if you know the actual name of a character, replace the \"SPEAKER_01\" with it's actual character name\n",
    "                      <text-to-correct>{chunk}</text-to-correct>\n",
    "                    '''\n",
    "        \n",
    "        r = self.chat(prompt)\n",
    "        print(f\"Processed chunk {index + 1} of {total_chunks}\")\n",
    "        corrected_text = r.content\n",
    "        return corrected_text\n",
    "\n",
    "    def process_conversation(self):\n",
    "        \"\"\"\n",
    "        Process the entire conversation, chunk by chunk.\n",
    "        \n",
    "        Returns:\n",
    "            str: The fully corrected transcript.\n",
    "        \"\"\"\n",
    "        chunks = self.read_and_chunk()\n",
    "        results = []\n",
    "\n",
    "        for index, chunk in enumerate(chunks):\n",
    "            corrected_text = self.process_chunk(chunk, index, len(chunks))\n",
    "            results.append(corrected_text)\n",
    "\n",
    "        processed_text = '\\n'.join(results)\n",
    "        self.write_results_to_file(processed_text)\n",
    "        return processed_text\n",
    "\n",
    "    def write_results_to_file(self, processed_text: str):\n",
    "        \"\"\"\n",
    "        Write the processed text to the output file.\n",
    "        \n",
    "        Args:\n",
    "            processed_text (str): The fully corrected transcript.\n",
    "        \"\"\"\n",
    "        with open(self.output_path, 'w', encoding='utf-8') as file:\n",
    "            file.write(processed_text)\n",
    "        print(f\"Results written to {self.output_path}\")"
   ]
  },
  {
   "cell_type": "markdown",
   "metadata": {},
   "source": [
    "## Example Usage\n",
    " \n",
    "Here's a step-by-step example of how to use the `ClaudeDiarizationCorrector` in your own Python script or notebook:\n"
   ]
  },
  {
   "cell_type": "code",
   "execution_count": 12,
   "metadata": {},
   "outputs": [],
   "source": [
    "import os\n",
    "from improve_diarization_with_llm import claude_corrector\n",
    "    \n",
    "os.environ['ANTHROPIC_API_KEY'] = 'your-api-key'  # Replace with your actual API key"
   ]
  },
  {
   "cell_type": "markdown",
   "metadata": {},
   "source": [
    " 2. Next, create a `ClaudeDiarizationCorrector` object with your input and output file paths:"
   ]
  },
  {
   "cell_type": "code",
   "execution_count": 14,
   "metadata": {},
   "outputs": [],
   "source": [
    "input_file = 'path/to/your/input/transcript.txt'  # Replace with your actual input file path\n",
    "output_file = 'path/to/your/output/improved_transcript.txt'  # Replace with your desired output file path\n",
    "    \n",
    "corrector = claude_corrector.ClaudeDiarizationCorrector(input_file, output_file)"
   ]
  },
  {
   "cell_type": "markdown",
   "metadata": {},
   "source": [
    " 3. Finally, process the conversation:\n",
    "```python\n",
    "corrected_transcript = corrector.process_conversation()\n",
    "print(\"Correction complete. Check the output file for results.\")\n",
    "```"
   ]
  },
  {
   "cell_type": "code",
   "execution_count": 15,
   "metadata": {},
   "outputs": [],
   "source": [
    "#| hide\n",
    "import nbdev; nbdev.nbdev_export()"
   ]
  }
 ],
 "metadata": {
  "kernelspec": {
   "display_name": "Python 3 (ipykernel)",
   "language": "python",
   "name": "python3"
  },
  "language_info": {
   "codemirror_mode": {
    "name": "ipython",
    "version": 3
   },
   "file_extension": ".py",
   "mimetype": "text/x-python",
   "name": "python",
   "nbconvert_exporter": "python",
   "pygments_lexer": "ipython3",
   "version": "3.12.3"
  }
 },
 "nbformat": 4,
 "nbformat_minor": 4
}
